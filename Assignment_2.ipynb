{
 "cells": [
  {
   "cell_type": "markdown",
   "metadata": {},
   "source": [
    "# Assignment 2\n",
    "\n",
    "We start to install all the packages we need and get the data"
   ]
  },
  {
   "cell_type": "code",
   "execution_count": 2,
   "metadata": {
    "collapsed": false
   },
   "outputs": [],
   "source": [
    "# Import package \n",
    "import pandas as pd\n",
    "import matplotlib.pyplot as plt\n",
    "import numpy as np\n",
    "import scipy\n",
    "from sklearn import linear_model, preprocessing\n",
    "from sklearn.tree import DecisionTreeClassifier, export_graphviz\n",
    "# from sklearn.model_selection import train_test_split\n",
    "from sklearn.cross_validation import train_test_split\n",
    "from sklearn.metrics import accuracy_score\n",
    "from sklearn.cluster import KMeans\n"
   ]
  },
  {
   "cell_type": "code",
   "execution_count": 4,
   "metadata": {
    "collapsed": true
   },
   "outputs": [],
   "source": [
    "# Start by getting the data \n",
    "DataSet = pd.read_csv(\"SFPD_Incidents_-_from_1_January_2003.csv\")"
   ]
  },
  {
   "cell_type": "markdown",
   "metadata": {},
   "source": [
    "## 2A"
   ]
  },
  {
   "cell_type": "code",
   "execution_count": 5,
   "metadata": {
    "collapsed": false,
    "scrolled": true
   },
   "outputs": [
    {
     "data": {
      "text/html": [
       "<div>\n",
       "<table border=\"1\" class=\"dataframe\">\n",
       "  <thead>\n",
       "    <tr style=\"text-align: right;\">\n",
       "      <th></th>\n",
       "      <th>IncidntNum</th>\n",
       "      <th>Category</th>\n",
       "      <th>Descript</th>\n",
       "      <th>DayOfWeek</th>\n",
       "      <th>Date</th>\n",
       "      <th>Time</th>\n",
       "      <th>PdDistrict</th>\n",
       "      <th>Resolution</th>\n",
       "      <th>Address</th>\n",
       "      <th>X</th>\n",
       "      <th>Y</th>\n",
       "      <th>Location</th>\n",
       "      <th>PdId</th>\n",
       "    </tr>\n",
       "  </thead>\n",
       "  <tbody>\n",
       "    <tr>\n",
       "      <th>0</th>\n",
       "      <td>150060275</td>\n",
       "      <td>NON-CRIMINAL</td>\n",
       "      <td>LOST PROPERTY</td>\n",
       "      <td>Monday</td>\n",
       "      <td>01/19/2015</td>\n",
       "      <td>14:00</td>\n",
       "      <td>MISSION</td>\n",
       "      <td>NONE</td>\n",
       "      <td>18TH ST / VALENCIA ST</td>\n",
       "      <td>-122.421582</td>\n",
       "      <td>37.761701</td>\n",
       "      <td>(37.7617007179518, -122.42158168137)</td>\n",
       "      <td>15006027571000</td>\n",
       "    </tr>\n",
       "    <tr>\n",
       "      <th>1</th>\n",
       "      <td>150098210</td>\n",
       "      <td>ROBBERY</td>\n",
       "      <td>ROBBERY, BODILY FORCE</td>\n",
       "      <td>Sunday</td>\n",
       "      <td>02/01/2015</td>\n",
       "      <td>15:45</td>\n",
       "      <td>TENDERLOIN</td>\n",
       "      <td>NONE</td>\n",
       "      <td>300 Block of LEAVENWORTH ST</td>\n",
       "      <td>-122.414406</td>\n",
       "      <td>37.784191</td>\n",
       "      <td>(37.7841907151119, -122.414406029855)</td>\n",
       "      <td>15009821003074</td>\n",
       "    </tr>\n",
       "    <tr>\n",
       "      <th>2</th>\n",
       "      <td>150098210</td>\n",
       "      <td>ASSAULT</td>\n",
       "      <td>AGGRAVATED ASSAULT WITH BODILY FORCE</td>\n",
       "      <td>Sunday</td>\n",
       "      <td>02/01/2015</td>\n",
       "      <td>15:45</td>\n",
       "      <td>TENDERLOIN</td>\n",
       "      <td>NONE</td>\n",
       "      <td>300 Block of LEAVENWORTH ST</td>\n",
       "      <td>-122.414406</td>\n",
       "      <td>37.784191</td>\n",
       "      <td>(37.7841907151119, -122.414406029855)</td>\n",
       "      <td>15009821004014</td>\n",
       "    </tr>\n",
       "    <tr>\n",
       "      <th>3</th>\n",
       "      <td>150098210</td>\n",
       "      <td>SECONDARY CODES</td>\n",
       "      <td>DOMESTIC VIOLENCE</td>\n",
       "      <td>Sunday</td>\n",
       "      <td>02/01/2015</td>\n",
       "      <td>15:45</td>\n",
       "      <td>TENDERLOIN</td>\n",
       "      <td>NONE</td>\n",
       "      <td>300 Block of LEAVENWORTH ST</td>\n",
       "      <td>-122.414406</td>\n",
       "      <td>37.784191</td>\n",
       "      <td>(37.7841907151119, -122.414406029855)</td>\n",
       "      <td>15009821015200</td>\n",
       "    </tr>\n",
       "    <tr>\n",
       "      <th>4</th>\n",
       "      <td>150098226</td>\n",
       "      <td>VANDALISM</td>\n",
       "      <td>MALICIOUS MISCHIEF, VANDALISM OF VEHICLES</td>\n",
       "      <td>Tuesday</td>\n",
       "      <td>01/27/2015</td>\n",
       "      <td>19:00</td>\n",
       "      <td>NORTHERN</td>\n",
       "      <td>NONE</td>\n",
       "      <td>LOMBARD ST / LAGUNA ST</td>\n",
       "      <td>-122.431119</td>\n",
       "      <td>37.800469</td>\n",
       "      <td>(37.8004687042875, -122.431118543788)</td>\n",
       "      <td>15009822628160</td>\n",
       "    </tr>\n",
       "  </tbody>\n",
       "</table>\n",
       "</div>"
      ],
      "text/plain": [
       "   IncidntNum         Category                                   Descript  \\\n",
       "0   150060275     NON-CRIMINAL                              LOST PROPERTY   \n",
       "1   150098210          ROBBERY                      ROBBERY, BODILY FORCE   \n",
       "2   150098210          ASSAULT       AGGRAVATED ASSAULT WITH BODILY FORCE   \n",
       "3   150098210  SECONDARY CODES                          DOMESTIC VIOLENCE   \n",
       "4   150098226        VANDALISM  MALICIOUS MISCHIEF, VANDALISM OF VEHICLES   \n",
       "\n",
       "  DayOfWeek        Date   Time  PdDistrict Resolution  \\\n",
       "0    Monday  01/19/2015  14:00     MISSION       NONE   \n",
       "1    Sunday  02/01/2015  15:45  TENDERLOIN       NONE   \n",
       "2    Sunday  02/01/2015  15:45  TENDERLOIN       NONE   \n",
       "3    Sunday  02/01/2015  15:45  TENDERLOIN       NONE   \n",
       "4   Tuesday  01/27/2015  19:00    NORTHERN       NONE   \n",
       "\n",
       "                       Address           X          Y  \\\n",
       "0        18TH ST / VALENCIA ST -122.421582  37.761701   \n",
       "1  300 Block of LEAVENWORTH ST -122.414406  37.784191   \n",
       "2  300 Block of LEAVENWORTH ST -122.414406  37.784191   \n",
       "3  300 Block of LEAVENWORTH ST -122.414406  37.784191   \n",
       "4       LOMBARD ST / LAGUNA ST -122.431119  37.800469   \n",
       "\n",
       "                                Location            PdId  \n",
       "0   (37.7617007179518, -122.42158168137)  15006027571000  \n",
       "1  (37.7841907151119, -122.414406029855)  15009821003074  \n",
       "2  (37.7841907151119, -122.414406029855)  15009821004014  \n",
       "3  (37.7841907151119, -122.414406029855)  15009821015200  \n",
       "4  (37.8004687042875, -122.431118543788)  15009822628160  "
      ]
     },
     "execution_count": 5,
     "metadata": {},
     "output_type": "execute_result"
    }
   ],
   "source": [
    "# Lets see what the data looks like \n",
    "DataSet.head()"
   ]
  },
  {
   "cell_type": "markdown",
   "metadata": {},
   "source": [
    "## Prepare the data\n",
    "\n",
    "We want to make dataset that has for each district \n",
    "* total number of crimes in 2003 and 2015\n",
    "* number of vehicle theft in 2003 and 2015\n",
    "* number of prostituion in 2003 and 2015\n",
    "\n",
    "We will start to get the year from the column *Date* in the dataset. To do so we will make a function called getYear"
   ]
  },
  {
   "cell_type": "code",
   "execution_count": 4,
   "metadata": {
    "collapsed": false
   },
   "outputs": [
    {
     "data": {
      "text/html": [
       "<div>\n",
       "<table border=\"1\" class=\"dataframe\">\n",
       "  <thead>\n",
       "    <tr style=\"text-align: right;\">\n",
       "      <th></th>\n",
       "      <th>IncidntNum</th>\n",
       "      <th>Category</th>\n",
       "      <th>Descript</th>\n",
       "      <th>DayOfWeek</th>\n",
       "      <th>Date</th>\n",
       "      <th>Time</th>\n",
       "      <th>PdDistrict</th>\n",
       "      <th>Resolution</th>\n",
       "      <th>Address</th>\n",
       "      <th>X</th>\n",
       "      <th>Y</th>\n",
       "      <th>Location</th>\n",
       "      <th>PdId</th>\n",
       "    </tr>\n",
       "  </thead>\n",
       "  <tbody>\n",
       "    <tr>\n",
       "      <th>0</th>\n",
       "      <td>150060275</td>\n",
       "      <td>NON-CRIMINAL</td>\n",
       "      <td>LOST PROPERTY</td>\n",
       "      <td>Monday</td>\n",
       "      <td>2015</td>\n",
       "      <td>14:00</td>\n",
       "      <td>MISSION</td>\n",
       "      <td>NONE</td>\n",
       "      <td>18TH ST / VALENCIA ST</td>\n",
       "      <td>-122.421582</td>\n",
       "      <td>37.761701</td>\n",
       "      <td>(37.7617007179518, -122.42158168137)</td>\n",
       "      <td>15006027571000</td>\n",
       "    </tr>\n",
       "    <tr>\n",
       "      <th>1</th>\n",
       "      <td>150098210</td>\n",
       "      <td>ROBBERY</td>\n",
       "      <td>ROBBERY, BODILY FORCE</td>\n",
       "      <td>Sunday</td>\n",
       "      <td>2015</td>\n",
       "      <td>15:45</td>\n",
       "      <td>TENDERLOIN</td>\n",
       "      <td>NONE</td>\n",
       "      <td>300 Block of LEAVENWORTH ST</td>\n",
       "      <td>-122.414406</td>\n",
       "      <td>37.784191</td>\n",
       "      <td>(37.7841907151119, -122.414406029855)</td>\n",
       "      <td>15009821003074</td>\n",
       "    </tr>\n",
       "    <tr>\n",
       "      <th>2</th>\n",
       "      <td>150098210</td>\n",
       "      <td>ASSAULT</td>\n",
       "      <td>AGGRAVATED ASSAULT WITH BODILY FORCE</td>\n",
       "      <td>Sunday</td>\n",
       "      <td>2015</td>\n",
       "      <td>15:45</td>\n",
       "      <td>TENDERLOIN</td>\n",
       "      <td>NONE</td>\n",
       "      <td>300 Block of LEAVENWORTH ST</td>\n",
       "      <td>-122.414406</td>\n",
       "      <td>37.784191</td>\n",
       "      <td>(37.7841907151119, -122.414406029855)</td>\n",
       "      <td>15009821004014</td>\n",
       "    </tr>\n",
       "    <tr>\n",
       "      <th>3</th>\n",
       "      <td>150098210</td>\n",
       "      <td>SECONDARY CODES</td>\n",
       "      <td>DOMESTIC VIOLENCE</td>\n",
       "      <td>Sunday</td>\n",
       "      <td>2015</td>\n",
       "      <td>15:45</td>\n",
       "      <td>TENDERLOIN</td>\n",
       "      <td>NONE</td>\n",
       "      <td>300 Block of LEAVENWORTH ST</td>\n",
       "      <td>-122.414406</td>\n",
       "      <td>37.784191</td>\n",
       "      <td>(37.7841907151119, -122.414406029855)</td>\n",
       "      <td>15009821015200</td>\n",
       "    </tr>\n",
       "    <tr>\n",
       "      <th>4</th>\n",
       "      <td>150098226</td>\n",
       "      <td>VANDALISM</td>\n",
       "      <td>MALICIOUS MISCHIEF, VANDALISM OF VEHICLES</td>\n",
       "      <td>Tuesday</td>\n",
       "      <td>2015</td>\n",
       "      <td>19:00</td>\n",
       "      <td>NORTHERN</td>\n",
       "      <td>NONE</td>\n",
       "      <td>LOMBARD ST / LAGUNA ST</td>\n",
       "      <td>-122.431119</td>\n",
       "      <td>37.800469</td>\n",
       "      <td>(37.8004687042875, -122.431118543788)</td>\n",
       "      <td>15009822628160</td>\n",
       "    </tr>\n",
       "  </tbody>\n",
       "</table>\n",
       "</div>"
      ],
      "text/plain": [
       "   IncidntNum         Category                                   Descript  \\\n",
       "0   150060275     NON-CRIMINAL                              LOST PROPERTY   \n",
       "1   150098210          ROBBERY                      ROBBERY, BODILY FORCE   \n",
       "2   150098210          ASSAULT       AGGRAVATED ASSAULT WITH BODILY FORCE   \n",
       "3   150098210  SECONDARY CODES                          DOMESTIC VIOLENCE   \n",
       "4   150098226        VANDALISM  MALICIOUS MISCHIEF, VANDALISM OF VEHICLES   \n",
       "\n",
       "  DayOfWeek  Date   Time  PdDistrict Resolution                      Address  \\\n",
       "0    Monday  2015  14:00     MISSION       NONE        18TH ST / VALENCIA ST   \n",
       "1    Sunday  2015  15:45  TENDERLOIN       NONE  300 Block of LEAVENWORTH ST   \n",
       "2    Sunday  2015  15:45  TENDERLOIN       NONE  300 Block of LEAVENWORTH ST   \n",
       "3    Sunday  2015  15:45  TENDERLOIN       NONE  300 Block of LEAVENWORTH ST   \n",
       "4   Tuesday  2015  19:00    NORTHERN       NONE       LOMBARD ST / LAGUNA ST   \n",
       "\n",
       "            X          Y                               Location  \\\n",
       "0 -122.421582  37.761701   (37.7617007179518, -122.42158168137)   \n",
       "1 -122.414406  37.784191  (37.7841907151119, -122.414406029855)   \n",
       "2 -122.414406  37.784191  (37.7841907151119, -122.414406029855)   \n",
       "3 -122.414406  37.784191  (37.7841907151119, -122.414406029855)   \n",
       "4 -122.431119  37.800469  (37.8004687042875, -122.431118543788)   \n",
       "\n",
       "             PdId  \n",
       "0  15006027571000  \n",
       "1  15009821003074  \n",
       "2  15009821004014  \n",
       "3  15009821015200  \n",
       "4  15009822628160  "
      ]
     },
     "execution_count": 4,
     "metadata": {},
     "output_type": "execute_result"
    }
   ],
   "source": [
    "#Extract year from date\n",
    "def getYear(date):\n",
    "    return int(date.split('/')[2])\n",
    "\n",
    "# Let's change the column Date so it only includes year\n",
    "DataSet['Date'] = DataSet['Date'].apply(lambda x: getYear(x))\n",
    "DataSet.head()"
   ]
  },
  {
   "cell_type": "markdown",
   "metadata": {},
   "source": [
    "Now we need to count the total number of crimes for each District. We make a new dataset called *DataSet2003* and *DataSet2015* there we will store the data needed for the assinment 2A"
   ]
  },
  {
   "cell_type": "code",
   "execution_count": 5,
   "metadata": {
    "collapsed": false
   },
   "outputs": [
    {
     "data": {
      "text/html": [
       "<div>\n",
       "<table border=\"1\" class=\"dataframe\">\n",
       "  <thead>\n",
       "    <tr style=\"text-align: right;\">\n",
       "      <th></th>\n",
       "      <th>Total_2003</th>\n",
       "      <th>Total_2015</th>\n",
       "    </tr>\n",
       "    <tr>\n",
       "      <th>PdDistrict</th>\n",
       "      <th></th>\n",
       "      <th></th>\n",
       "    </tr>\n",
       "  </thead>\n",
       "  <tbody>\n",
       "    <tr>\n",
       "      <th>BAYVIEW</th>\n",
       "      <td>15739</td>\n",
       "      <td>14711</td>\n",
       "    </tr>\n",
       "    <tr>\n",
       "      <th>CENTRAL</th>\n",
       "      <td>13622</td>\n",
       "      <td>18565</td>\n",
       "    </tr>\n",
       "    <tr>\n",
       "      <th>INGLESIDE</th>\n",
       "      <td>14008</td>\n",
       "      <td>13414</td>\n",
       "    </tr>\n",
       "    <tr>\n",
       "      <th>MISSION</th>\n",
       "      <td>21163</td>\n",
       "      <td>18542</td>\n",
       "    </tr>\n",
       "    <tr>\n",
       "      <th>NORTHERN</th>\n",
       "      <td>18975</td>\n",
       "      <td>20092</td>\n",
       "    </tr>\n",
       "  </tbody>\n",
       "</table>\n",
       "</div>"
      ],
      "text/plain": [
       "            Total_2003  Total_2015\n",
       "PdDistrict                        \n",
       "BAYVIEW          15739       14711\n",
       "CENTRAL          13622       18565\n",
       "INGLESIDE        14008       13414\n",
       "MISSION          21163       18542\n",
       "NORTHERN         18975       20092"
      ]
     },
     "execution_count": 5,
     "metadata": {},
     "output_type": "execute_result"
    }
   ],
   "source": [
    "Df= DataSet[DataSet['Date']==2003].filter(items = ['PdDistrict','Category']).groupby([\"PdDistrict\"]).count()\n",
    "Df['Total_2015'] = DataSet[DataSet['Date']==2015].filter(items = ['PdDistrict','Category']).groupby([\"PdDistrict\"]).count()#.reset_index(name='TotalCrimes')\n",
    "Df = Df.rename(columns={'Category': 'Total_2003'})\n",
    "Df.head()"
   ]
  },
  {
   "cell_type": "markdown",
   "metadata": {},
   "source": [
    "Now we will count the total number of prostituion in each districk"
   ]
  },
  {
   "cell_type": "code",
   "execution_count": 6,
   "metadata": {
    "collapsed": false
   },
   "outputs": [
    {
     "data": {
      "text/html": [
       "<div>\n",
       "<table border=\"1\" class=\"dataframe\">\n",
       "  <thead>\n",
       "    <tr style=\"text-align: right;\">\n",
       "      <th></th>\n",
       "      <th>Total_2003</th>\n",
       "      <th>Total_2015</th>\n",
       "      <th>NumPros_2003</th>\n",
       "      <th>NumPros_2015</th>\n",
       "    </tr>\n",
       "    <tr>\n",
       "      <th>PdDistrict</th>\n",
       "      <th></th>\n",
       "      <th></th>\n",
       "      <th></th>\n",
       "      <th></th>\n",
       "    </tr>\n",
       "  </thead>\n",
       "  <tbody>\n",
       "    <tr>\n",
       "      <th>BAYVIEW</th>\n",
       "      <td>15739</td>\n",
       "      <td>14711</td>\n",
       "      <td>11</td>\n",
       "      <td>7</td>\n",
       "    </tr>\n",
       "    <tr>\n",
       "      <th>CENTRAL</th>\n",
       "      <td>13622</td>\n",
       "      <td>18565</td>\n",
       "      <td>70</td>\n",
       "      <td>44</td>\n",
       "    </tr>\n",
       "    <tr>\n",
       "      <th>INGLESIDE</th>\n",
       "      <td>14008</td>\n",
       "      <td>13414</td>\n",
       "      <td>5</td>\n",
       "      <td>5</td>\n",
       "    </tr>\n",
       "    <tr>\n",
       "      <th>MISSION</th>\n",
       "      <td>21163</td>\n",
       "      <td>18542</td>\n",
       "      <td>713</td>\n",
       "      <td>66</td>\n",
       "    </tr>\n",
       "    <tr>\n",
       "      <th>NORTHERN</th>\n",
       "      <td>18975</td>\n",
       "      <td>20092</td>\n",
       "      <td>581</td>\n",
       "      <td>42</td>\n",
       "    </tr>\n",
       "  </tbody>\n",
       "</table>\n",
       "</div>"
      ],
      "text/plain": [
       "            Total_2003  Total_2015  NumPros_2003  NumPros_2015\n",
       "PdDistrict                                                    \n",
       "BAYVIEW          15739       14711            11             7\n",
       "CENTRAL          13622       18565            70            44\n",
       "INGLESIDE        14008       13414             5             5\n",
       "MISSION          21163       18542           713            66\n",
       "NORTHERN         18975       20092           581            42"
      ]
     },
     "execution_count": 6,
     "metadata": {},
     "output_type": "execute_result"
    }
   ],
   "source": [
    "Df['NumPros_2003'] = DataSet[(DataSet['Date']==2003) & (DataSet['Category'] == 'PROSTITUTION')].filter(items = ['PdDistrict','Category']).groupby([\"PdDistrict\"]).count()\n",
    "Df['NumPros_2015'] = DataSet[(DataSet['Date']==2015) & (DataSet['Category'] == 'PROSTITUTION')].filter(items = ['PdDistrict','Category']).groupby([\"PdDistrict\"]).count()\n",
    "Df.head()\n"
   ]
  },
  {
   "cell_type": "markdown",
   "metadata": {},
   "source": [
    "Now we will count the total number of vehicle theft in each district"
   ]
  },
  {
   "cell_type": "code",
   "execution_count": 7,
   "metadata": {
    "collapsed": false
   },
   "outputs": [
    {
     "data": {
      "text/html": [
       "<div>\n",
       "<table border=\"1\" class=\"dataframe\">\n",
       "  <thead>\n",
       "    <tr style=\"text-align: right;\">\n",
       "      <th></th>\n",
       "      <th>Total_2003</th>\n",
       "      <th>Total_2015</th>\n",
       "      <th>NumPros_2003</th>\n",
       "      <th>NumPros_2015</th>\n",
       "      <th>NumVehicle_2003</th>\n",
       "      <th>NumVehicle_2015</th>\n",
       "    </tr>\n",
       "    <tr>\n",
       "      <th>PdDistrict</th>\n",
       "      <th></th>\n",
       "      <th></th>\n",
       "      <th></th>\n",
       "      <th></th>\n",
       "      <th></th>\n",
       "      <th></th>\n",
       "    </tr>\n",
       "  </thead>\n",
       "  <tbody>\n",
       "    <tr>\n",
       "      <th>BAYVIEW</th>\n",
       "      <td>15739</td>\n",
       "      <td>14711</td>\n",
       "      <td>11</td>\n",
       "      <td>7</td>\n",
       "      <td>2121</td>\n",
       "      <td>985</td>\n",
       "    </tr>\n",
       "    <tr>\n",
       "      <th>CENTRAL</th>\n",
       "      <td>13622</td>\n",
       "      <td>18565</td>\n",
       "      <td>70</td>\n",
       "      <td>44</td>\n",
       "      <td>1193</td>\n",
       "      <td>552</td>\n",
       "    </tr>\n",
       "    <tr>\n",
       "      <th>INGLESIDE</th>\n",
       "      <td>14008</td>\n",
       "      <td>13414</td>\n",
       "      <td>5</td>\n",
       "      <td>5</td>\n",
       "      <td>2319</td>\n",
       "      <td>1368</td>\n",
       "    </tr>\n",
       "    <tr>\n",
       "      <th>MISSION</th>\n",
       "      <td>21163</td>\n",
       "      <td>18542</td>\n",
       "      <td>713</td>\n",
       "      <td>66</td>\n",
       "      <td>2063</td>\n",
       "      <td>1198</td>\n",
       "    </tr>\n",
       "    <tr>\n",
       "      <th>NORTHERN</th>\n",
       "      <td>18975</td>\n",
       "      <td>20092</td>\n",
       "      <td>581</td>\n",
       "      <td>42</td>\n",
       "      <td>1879</td>\n",
       "      <td>945</td>\n",
       "    </tr>\n",
       "  </tbody>\n",
       "</table>\n",
       "</div>"
      ],
      "text/plain": [
       "            Total_2003  Total_2015  NumPros_2003  NumPros_2015  \\\n",
       "PdDistrict                                                       \n",
       "BAYVIEW          15739       14711            11             7   \n",
       "CENTRAL          13622       18565            70            44   \n",
       "INGLESIDE        14008       13414             5             5   \n",
       "MISSION          21163       18542           713            66   \n",
       "NORTHERN         18975       20092           581            42   \n",
       "\n",
       "            NumVehicle_2003  NumVehicle_2015  \n",
       "PdDistrict                                    \n",
       "BAYVIEW                2121              985  \n",
       "CENTRAL                1193              552  \n",
       "INGLESIDE              2319             1368  \n",
       "MISSION                2063             1198  \n",
       "NORTHERN               1879              945  "
      ]
     },
     "execution_count": 7,
     "metadata": {},
     "output_type": "execute_result"
    }
   ],
   "source": [
    "Df['NumVehicle_2003'] = DataSet[(DataSet['Date']==2003) & (DataSet['Category'] == 'VEHICLE THEFT')].filter(items = ['PdDistrict','Category']).groupby([\"PdDistrict\"]).count()\n",
    "Df['NumVehicle_2015'] = DataSet[(DataSet['Date']==2015) & (DataSet['Category'] == 'VEHICLE THEFT')].filter(items = ['PdDistrict','Category']).groupby([\"PdDistrict\"]).count()\n",
    "Df.head()\n"
   ]
  },
  {
   "cell_type": "code",
   "execution_count": 8,
   "metadata": {
    "collapsed": false
   },
   "outputs": [],
   "source": [
    "Df.to_csv('DataSet.csv')\n"
   ]
  },
  {
   "cell_type": "markdown",
   "metadata": {},
   "source": [
    "## 2B\n",
    "We want to make a dataset for include only the longitude and latitude where the crime type is prostitution. \n",
    "**Note:** We know that there are outlier that have longitude and latitude = 90. We will take them out of our data"
   ]
  },
  {
   "cell_type": "code",
   "execution_count": 9,
   "metadata": {
    "collapsed": false
   },
   "outputs": [
    {
     "data": {
      "text/html": [
       "<div>\n",
       "<table border=\"1\" class=\"dataframe\">\n",
       "  <thead>\n",
       "    <tr style=\"text-align: right;\">\n",
       "      <th></th>\n",
       "      <th>X</th>\n",
       "      <th>Y</th>\n",
       "    </tr>\n",
       "  </thead>\n",
       "  <tbody>\n",
       "    <tr>\n",
       "      <th>3639</th>\n",
       "      <td>-122.466205</td>\n",
       "      <td>37.772541</td>\n",
       "    </tr>\n",
       "    <tr>\n",
       "      <th>5422</th>\n",
       "      <td>-122.403405</td>\n",
       "      <td>37.775421</td>\n",
       "    </tr>\n",
       "    <tr>\n",
       "      <th>6862</th>\n",
       "      <td>-122.409661</td>\n",
       "      <td>37.786439</td>\n",
       "    </tr>\n",
       "    <tr>\n",
       "      <th>7560</th>\n",
       "      <td>-122.417956</td>\n",
       "      <td>37.757880</td>\n",
       "    </tr>\n",
       "    <tr>\n",
       "      <th>8692</th>\n",
       "      <td>-122.410700</td>\n",
       "      <td>37.786988</td>\n",
       "    </tr>\n",
       "  </tbody>\n",
       "</table>\n",
       "</div>"
      ],
      "text/plain": [
       "               X          Y\n",
       "3639 -122.466205  37.772541\n",
       "5422 -122.403405  37.775421\n",
       "6862 -122.409661  37.786439\n",
       "7560 -122.417956  37.757880\n",
       "8692 -122.410700  37.786988"
      ]
     },
     "execution_count": 9,
     "metadata": {},
     "output_type": "execute_result"
    }
   ],
   "source": [
    "DataSet_prost = DataSet[(DataSet['Category'] == 'PROSTITUTION') & (DataSet[\"X\"] != 90) & (DataSet[\"Y\"] != 90)]\n",
    "DataSet_prost = DataSet_prost.filter(items = [\"X\",\"Y\" ])\n",
    "DataSet_prost.head()"
   ]
  },
  {
   "cell_type": "markdown",
   "metadata": {},
   "source": [
    "Lets plot this to see if everything looks fine"
   ]
  },
  {
   "cell_type": "code",
   "execution_count": 10,
   "metadata": {
    "collapsed": false
   },
   "outputs": [
    {
     "data": {
      "image/png": "[encoded data removed]",
      "text/plain": [
       "<matplotlib.figure.Figure at 0xb656c50>"
      ]
     },
     "metadata": {},
     "output_type": "display_data"
    }
   ],
   "source": [
    "plt.plot(DataSet_prost['X'], DataSet_prost['Y'], '*')\n",
    "plt.show()\n"
   ]
  },
  {
   "cell_type": "markdown",
   "metadata": {},
   "source": [
    "This looks good so no we will do the clustering. We will use *fit* and *labels_* from KMeans to find out in what each point should be in"
   ]
  },
  {
   "cell_type": "code",
   "execution_count": 11,
   "metadata": {
    "collapsed": false
   },
   "outputs": [
    {
     "data": {
      "text/html": [
       "<div>\n",
       "<table border=\"1\" class=\"dataframe\">\n",
       "  <thead>\n",
       "    <tr style=\"text-align: right;\">\n",
       "      <th></th>\n",
       "      <th>X</th>\n",
       "      <th>Y</th>\n",
       "      <th>KMean2</th>\n",
       "      <th>KMean3</th>\n",
       "      <th>KMean4</th>\n",
       "      <th>KMean5</th>\n",
       "      <th>KMean6</th>\n",
       "    </tr>\n",
       "  </thead>\n",
       "  <tbody>\n",
       "    <tr>\n",
       "      <th>3639</th>\n",
       "      <td>-122.466205</td>\n",
       "      <td>37.772541</td>\n",
       "      <td>1</td>\n",
       "      <td>2</td>\n",
       "      <td>3</td>\n",
       "      <td>4</td>\n",
       "      <td>5</td>\n",
       "    </tr>\n",
       "    <tr>\n",
       "      <th>5422</th>\n",
       "      <td>-122.403405</td>\n",
       "      <td>37.775421</td>\n",
       "      <td>0</td>\n",
       "      <td>0</td>\n",
       "      <td>0</td>\n",
       "      <td>1</td>\n",
       "      <td>3</td>\n",
       "    </tr>\n",
       "    <tr>\n",
       "      <th>6862</th>\n",
       "      <td>-122.409661</td>\n",
       "      <td>37.786439</td>\n",
       "      <td>0</td>\n",
       "      <td>0</td>\n",
       "      <td>0</td>\n",
       "      <td>1</td>\n",
       "      <td>3</td>\n",
       "    </tr>\n",
       "    <tr>\n",
       "      <th>7560</th>\n",
       "      <td>-122.417956</td>\n",
       "      <td>37.757880</td>\n",
       "      <td>1</td>\n",
       "      <td>1</td>\n",
       "      <td>1</td>\n",
       "      <td>0</td>\n",
       "      <td>0</td>\n",
       "    </tr>\n",
       "    <tr>\n",
       "      <th>8692</th>\n",
       "      <td>-122.410700</td>\n",
       "      <td>37.786988</td>\n",
       "      <td>0</td>\n",
       "      <td>0</td>\n",
       "      <td>0</td>\n",
       "      <td>1</td>\n",
       "      <td>3</td>\n",
       "    </tr>\n",
       "  </tbody>\n",
       "</table>\n",
       "</div>"
      ],
      "text/plain": [
       "               X          Y  KMean2  KMean3  KMean4  KMean5  KMean6\n",
       "3639 -122.466205  37.772541       1       2       3       4       5\n",
       "5422 -122.403405  37.775421       0       0       0       1       3\n",
       "6862 -122.409661  37.786439       0       0       0       1       3\n",
       "7560 -122.417956  37.757880       1       1       1       0       0\n",
       "8692 -122.410700  37.786988       0       0       0       1       3"
      ]
     },
     "execution_count": 11,
     "metadata": {},
     "output_type": "execute_result"
    }
   ],
   "source": [
    "zip_X_Y = zip(DataSet_prost['X'], DataSet_prost['Y'])\n",
    "\n",
    "kmeans = []\n",
    "for i in xrange(2,7,1):\n",
    "    kmeans.append(KMeans(n_clusters=i).fit(zip_X_Y))\n",
    "\n",
    "DataSet_prost['KMean2'] = kmeans[0].labels_\n",
    "DataSet_prost['KMean3'] = kmeans[1].labels_\n",
    "DataSet_prost['KMean4'] = kmeans[2].labels_\n",
    "DataSet_prost['KMean5'] = kmeans[3].labels_\n",
    "DataSet_prost['KMean6'] = kmeans[4].labels_\n",
    "\n",
    "DataSet_prost.head()"
   ]
  },
  {
   "cell_type": "markdown",
   "metadata": {},
   "source": [
    "Lets plot the data to see if everything looks fine"
   ]
  },
  {
   "cell_type": "code",
   "execution_count": 12,
   "metadata": {
    "collapsed": false
   },
   "outputs": [
    {
     "data": {
      "image/png": "[encoded data removed]",
      "text/plain": [
       "<matplotlib.figure.Figure at 0x20f964a8>"
      ]
     },
     "metadata": {},
     "output_type": "display_data"
    }
   ],
   "source": [
    "plt.scatter(DataSet_prost['X'], DataSet_prost['Y'], c=DataSet_prost[\"KMean4\"])\n",
    "plt.title(\"Test\")\n",
    "plt.show()\n"
   ]
  },
  {
   "cell_type": "markdown",
   "metadata": {},
   "source": [
    "Everything looks good so we will make a csv file with our data frame"
   ]
  },
  {
   "cell_type": "code",
   "execution_count": 13,
   "metadata": {
    "collapsed": true
   },
   "outputs": [],
   "source": [
    "DataSet_prost.to_csv('DataSet2B_final.csv')"
   ]
  },
  {
   "cell_type": "markdown",
   "metadata": {},
   "source": [
    "### Centers\n",
    "Now we will get the location of the cluster center and put it into a csv file. We will start to get the location of the centers with *Center_Location*\n"
   ]
  },
  {
   "cell_type": "code",
   "execution_count": 14,
   "metadata": {
    "collapsed": false
   },
   "outputs": [],
   "source": [
    "Center_Location = []\n",
    "for i in range(len(kmeans)):\n",
    "    Center_Location.append(kmeans[i].cluster_centers_.tolist())  \n",
    "\n"
   ]
  },
  {
   "cell_type": "markdown",
   "metadata": {},
   "source": [
    "We will make a dataframe with the loacation "
   ]
  },
  {
   "cell_type": "code",
   "execution_count": 15,
   "metadata": {
    "collapsed": false
   },
   "outputs": [
    {
     "data": {
      "text/html": [
       "<div>\n",
       "<table border=\"1\" class=\"dataframe\">\n",
       "  <thead>\n",
       "    <tr style=\"text-align: right;\">\n",
       "      <th></th>\n",
       "      <th>X_KMean2</th>\n",
       "      <th>X_KMean3</th>\n",
       "      <th>X_KMean4</th>\n",
       "      <th>X_KMean5</th>\n",
       "      <th>X_KMean6</th>\n",
       "      <th>Y_KMean2</th>\n",
       "      <th>Y_KMean3</th>\n",
       "      <th>Y_KMean4</th>\n",
       "      <th>Y_KMean5</th>\n",
       "      <th>Y_KMean6</th>\n",
       "    </tr>\n",
       "  </thead>\n",
       "  <tbody>\n",
       "    <tr>\n",
       "      <th>1</th>\n",
       "      <td>-122.417213</td>\n",
       "      <td>-122.417097</td>\n",
       "      <td>-122.417082</td>\n",
       "      <td>-122.415843</td>\n",
       "      <td>-122.415998</td>\n",
       "      <td>37.787394</td>\n",
       "      <td>37.787425</td>\n",
       "      <td>37.787427</td>\n",
       "      <td>37.761426</td>\n",
       "      <td>37.761710</td>\n",
       "    </tr>\n",
       "    <tr>\n",
       "      <th>2</th>\n",
       "      <td>-122.419243</td>\n",
       "      <td>-122.415825</td>\n",
       "      <td>-122.415794</td>\n",
       "      <td>-122.404535</td>\n",
       "      <td>-122.418770</td>\n",
       "      <td>37.760004</td>\n",
       "      <td>37.761346</td>\n",
       "      <td>37.761447</td>\n",
       "      <td>37.785531</td>\n",
       "      <td>37.787654</td>\n",
       "    </tr>\n",
       "    <tr>\n",
       "      <th>3</th>\n",
       "      <td>NaN</td>\n",
       "      <td>-122.478115</td>\n",
       "      <td>-122.466325</td>\n",
       "      <td>-122.466325</td>\n",
       "      <td>-122.469521</td>\n",
       "      <td>NaN</td>\n",
       "      <td>37.738906</td>\n",
       "      <td>37.718814</td>\n",
       "      <td>37.718814</td>\n",
       "      <td>37.719174</td>\n",
       "    </tr>\n",
       "    <tr>\n",
       "      <th>4</th>\n",
       "      <td>NaN</td>\n",
       "      <td>NaN</td>\n",
       "      <td>-122.486398</td>\n",
       "      <td>-122.418770</td>\n",
       "      <td>-122.404535</td>\n",
       "      <td>NaN</td>\n",
       "      <td>NaN</td>\n",
       "      <td>37.758572</td>\n",
       "      <td>37.787654</td>\n",
       "      <td>37.785531</td>\n",
       "    </tr>\n",
       "    <tr>\n",
       "      <th>5</th>\n",
       "      <td>NaN</td>\n",
       "      <td>NaN</td>\n",
       "      <td>NaN</td>\n",
       "      <td>-122.486398</td>\n",
       "      <td>-122.405403</td>\n",
       "      <td>NaN</td>\n",
       "      <td>NaN</td>\n",
       "      <td>NaN</td>\n",
       "      <td>37.758572</td>\n",
       "      <td>37.727578</td>\n",
       "    </tr>\n",
       "  </tbody>\n",
       "</table>\n",
       "</div>"
      ],
      "text/plain": [
       "     X_KMean2    X_KMean3    X_KMean4    X_KMean5    X_KMean6   Y_KMean2  \\\n",
       "1 -122.417213 -122.417097 -122.417082 -122.415843 -122.415998  37.787394   \n",
       "2 -122.419243 -122.415825 -122.415794 -122.404535 -122.418770  37.760004   \n",
       "3         NaN -122.478115 -122.466325 -122.466325 -122.469521        NaN   \n",
       "4         NaN         NaN -122.486398 -122.418770 -122.404535        NaN   \n",
       "5         NaN         NaN         NaN -122.486398 -122.405403        NaN   \n",
       "\n",
       "    Y_KMean3   Y_KMean4   Y_KMean5   Y_KMean6  \n",
       "1  37.787425  37.787427  37.761426  37.761710  \n",
       "2  37.761346  37.761447  37.785531  37.787654  \n",
       "3  37.738906  37.718814  37.718814  37.719174  \n",
       "4        NaN  37.758572  37.787654  37.785531  \n",
       "5        NaN        NaN  37.758572  37.727578  "
      ]
     },
     "execution_count": 15,
     "metadata": {},
     "output_type": "execute_result"
    }
   ],
   "source": [
    "X_center = [[] for x in xrange(5)]\n",
    "Y_center = [[] for x in xrange(5)]\n",
    "\n",
    "for i in range(len(Center_Location[:5])):\n",
    "    X_center[i] = [x[0] for x in Center_Location[i]]\n",
    "    Y_center[i] = [x[1] for x in Center_Location[i]]\n",
    "    \n",
    "Centers = {'X_KMean2' : pd.Series(X_center[0], index=['1', '2']), 'Y_KMean2' : pd.Series(Y_center[0], index=['1', '2']), 'X_KMean3' : pd.Series(X_center[1], index=['1', '2', '3']), 'Y_KMean3' : pd.Series(Y_center[1], index=['1', '2', '3']), 'X_KMean4' : pd.Series(X_center[2], index=['1', '2', '3', '4']), 'Y_KMean4' : pd.Series(Y_center[2], index=['1', '2', '3', '4']), 'X_KMean5' : pd.Series(X_center[3], index=['1', '2', '3', '4', '5']), 'Y_KMean5' : pd.Series(Y_center[3], index=['1', '2', '3', '4', '5']), 'X_KMean6' : pd.Series(X_center[4], index=['1', '2', '3', '4', '5', '6']), 'Y_KMean6' : pd.Series(Y_center[4], index=['1', '2', '3', '4', '5', '6'])}\n",
    "\n",
    "dfCenters = pd.DataFrame(Centers)\n",
    "dfCenters.head()"
   ]
  },
  {
   "cell_type": "markdown",
   "metadata": {},
   "source": [
    "To color the centers in the same color as the location point we add a color column to our data frame"
   ]
  },
  {
   "cell_type": "code",
   "execution_count": 16,
   "metadata": {
    "collapsed": false
   },
   "outputs": [
    {
     "data": {
      "text/html": [
       "<div>\n",
       "<table border=\"1\" class=\"dataframe\">\n",
       "  <thead>\n",
       "    <tr style=\"text-align: right;\">\n",
       "      <th></th>\n",
       "      <th>X_KMean2</th>\n",
       "      <th>X_KMean3</th>\n",
       "      <th>X_KMean4</th>\n",
       "      <th>X_KMean5</th>\n",
       "      <th>X_KMean6</th>\n",
       "      <th>Y_KMean2</th>\n",
       "      <th>Y_KMean3</th>\n",
       "      <th>Y_KMean4</th>\n",
       "      <th>Y_KMean5</th>\n",
       "      <th>Y_KMean6</th>\n",
       "      <th>Color_KMean2</th>\n",
       "      <th>Color_KMean3</th>\n",
       "      <th>Color_KMean4</th>\n",
       "      <th>Color_KMean5</th>\n",
       "      <th>Color_KMean6</th>\n",
       "    </tr>\n",
       "  </thead>\n",
       "  <tbody>\n",
       "    <tr>\n",
       "      <th>1</th>\n",
       "      <td>-122.417213</td>\n",
       "      <td>-122.417097</td>\n",
       "      <td>-122.417082</td>\n",
       "      <td>-122.415843</td>\n",
       "      <td>-122.415998</td>\n",
       "      <td>37.787394</td>\n",
       "      <td>37.787425</td>\n",
       "      <td>37.787427</td>\n",
       "      <td>37.761426</td>\n",
       "      <td>37.761710</td>\n",
       "      <td>0</td>\n",
       "      <td>0</td>\n",
       "      <td>0</td>\n",
       "      <td>0</td>\n",
       "      <td>0</td>\n",
       "    </tr>\n",
       "    <tr>\n",
       "      <th>2</th>\n",
       "      <td>-122.419243</td>\n",
       "      <td>-122.415825</td>\n",
       "      <td>-122.415794</td>\n",
       "      <td>-122.404535</td>\n",
       "      <td>-122.418770</td>\n",
       "      <td>37.760004</td>\n",
       "      <td>37.761346</td>\n",
       "      <td>37.761447</td>\n",
       "      <td>37.785531</td>\n",
       "      <td>37.787654</td>\n",
       "      <td>1</td>\n",
       "      <td>1</td>\n",
       "      <td>1</td>\n",
       "      <td>1</td>\n",
       "      <td>1</td>\n",
       "    </tr>\n",
       "    <tr>\n",
       "      <th>3</th>\n",
       "      <td>NaN</td>\n",
       "      <td>-122.478115</td>\n",
       "      <td>-122.466325</td>\n",
       "      <td>-122.466325</td>\n",
       "      <td>-122.469521</td>\n",
       "      <td>NaN</td>\n",
       "      <td>37.738906</td>\n",
       "      <td>37.718814</td>\n",
       "      <td>37.718814</td>\n",
       "      <td>37.719174</td>\n",
       "      <td>1</td>\n",
       "      <td>2</td>\n",
       "      <td>2</td>\n",
       "      <td>2</td>\n",
       "      <td>2</td>\n",
       "    </tr>\n",
       "    <tr>\n",
       "      <th>4</th>\n",
       "      <td>NaN</td>\n",
       "      <td>NaN</td>\n",
       "      <td>-122.486398</td>\n",
       "      <td>-122.418770</td>\n",
       "      <td>-122.404535</td>\n",
       "      <td>NaN</td>\n",
       "      <td>NaN</td>\n",
       "      <td>37.758572</td>\n",
       "      <td>37.787654</td>\n",
       "      <td>37.785531</td>\n",
       "      <td>1</td>\n",
       "      <td>2</td>\n",
       "      <td>3</td>\n",
       "      <td>3</td>\n",
       "      <td>3</td>\n",
       "    </tr>\n",
       "    <tr>\n",
       "      <th>5</th>\n",
       "      <td>NaN</td>\n",
       "      <td>NaN</td>\n",
       "      <td>NaN</td>\n",
       "      <td>-122.486398</td>\n",
       "      <td>-122.405403</td>\n",
       "      <td>NaN</td>\n",
       "      <td>NaN</td>\n",
       "      <td>NaN</td>\n",
       "      <td>37.758572</td>\n",
       "      <td>37.727578</td>\n",
       "      <td>1</td>\n",
       "      <td>2</td>\n",
       "      <td>3</td>\n",
       "      <td>4</td>\n",
       "      <td>4</td>\n",
       "    </tr>\n",
       "  </tbody>\n",
       "</table>\n",
       "</div>"
      ],
      "text/plain": [
       "     X_KMean2    X_KMean3    X_KMean4    X_KMean5    X_KMean6   Y_KMean2  \\\n",
       "1 -122.417213 -122.417097 -122.417082 -122.415843 -122.415998  37.787394   \n",
       "2 -122.419243 -122.415825 -122.415794 -122.404535 -122.418770  37.760004   \n",
       "3         NaN -122.478115 -122.466325 -122.466325 -122.469521        NaN   \n",
       "4         NaN         NaN -122.486398 -122.418770 -122.404535        NaN   \n",
       "5         NaN         NaN         NaN -122.486398 -122.405403        NaN   \n",
       "\n",
       "    Y_KMean3   Y_KMean4   Y_KMean5   Y_KMean6  Color_KMean2  Color_KMean3  \\\n",
       "1  37.787425  37.787427  37.761426  37.761710             0             0   \n",
       "2  37.761346  37.761447  37.785531  37.787654             1             1   \n",
       "3  37.738906  37.718814  37.718814  37.719174             1             2   \n",
       "4        NaN  37.758572  37.787654  37.785531             1             2   \n",
       "5        NaN        NaN  37.758572  37.727578             1             2   \n",
       "\n",
       "   Color_KMean4  Color_KMean5  Color_KMean6  \n",
       "1             0             0             0  \n",
       "2             1             1             1  \n",
       "3             2             2             2  \n",
       "4             3             3             3  \n",
       "5             3             4             4  "
      ]
     },
     "execution_count": 16,
     "metadata": {},
     "output_type": "execute_result"
    }
   ],
   "source": [
    "dfCenters['Color_KMean2'] = [0,1,1,1,1,1]\n",
    "dfCenters['Color_KMean3'] = [0,1,2,2,2,2]\n",
    "dfCenters['Color_KMean4'] = [0,1,2,3,3,3]\n",
    "dfCenters['Color_KMean5'] = [0,1,2,3,4,4]\n",
    "dfCenters['Color_KMean6'] = [0,1,2,3,4,5]\n",
    "\n",
    "dfCenters.head()\n"
   ]
  },
  {
   "cell_type": "markdown",
   "metadata": {},
   "source": [
    "Make á csv file"
   ]
  },
  {
   "cell_type": "code",
   "execution_count": 17,
   "metadata": {
    "collapsed": false
   },
   "outputs": [],
   "source": [
    "dfCenters.to_csv('DataSet2B_center_final.csv')\n"
   ]
  }
 ],
 "metadata": {
  "anaconda-cloud": {},
  "kernelspec": {
   "display_name": "Python [default]",
   "language": "python",
   "name": "python2"
  },
  "language_info": {
   "codemirror_mode": {
    "name": "ipython",
    "version": 2
   },
   "file_extension": ".py",
   "mimetype": "text/x-python",
   "name": "python",
   "nbconvert_exporter": "python",
   "pygments_lexer": "ipython2",
   "version": "2.7.12"
  }
 },
 "nbformat": 4,
 "nbformat_minor": 1
}
